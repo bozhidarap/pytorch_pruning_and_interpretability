{
  "nbformat": 4,
  "nbformat_minor": 0,
  "metadata": {
    "colab": {
      "provenance": []
    },
    "kernelspec": {
      "name": "python3",
      "display_name": "Python 3"
    },
    "language_info": {
      "name": "python"
    }
  },
  "cells": [
    {
      "cell_type": "markdown",
      "source": [
        "# DepGraph Pruning\n"
      ],
      "metadata": {
        "id": "WPEfO437jMc4"
      }
    },
    {
      "cell_type": "code",
      "source": [
        "pip install torch-pruning"
      ],
      "metadata": {
        "id": "aKBgMoKAnP2g"
      },
      "execution_count": null,
      "outputs": []
    },
    {
      "cell_type": "code",
      "source": [
        "import torch\n",
        "import torch.nn as nn\n",
        "import torch.optim as optim\n",
        "import torch.nn.functional as F\n",
        "from torchvision import datasets, transforms\n",
        "from torchvision.models import resnet18\n",
        "from torch.utils.data import DataLoader\n",
        "from tqdm.notebook import tqdm_notebook\n",
        "import matplotlib.pyplot as plt\n",
        "import random\n",
        "import numpy as np\n",
        "import torch_pruning as tp\n",
        "from google.colab import drive\n",
        "drive.mount('/content/drive')\n",
        "torch.manual_seed(42)\n",
        "random.seed(42)\n",
        "np.random.seed(42)\n",
        "torch.cuda.manual_seed(42)"
      ],
      "metadata": {
        "id": "h8ToIBt0nUrS"
      },
      "execution_count": null,
      "outputs": []
    },
    {
      "cell_type": "markdown",
      "source": [
        "##Loading the model's weights"
      ],
      "metadata": {
        "id": "3MGfwJLFo-GP"
      }
    },
    {
      "cell_type": "code",
      "source": [
        "state_dict = torch.load('/content/drive/MyDrive/nat_cifar10_model.pth')\n",
        "state_dict_adv = torch.load('/content/drive/MyDrive/adv_cifar10_model.pth')\n",
        "\n",
        "model = resnet18()\n",
        "model.conv1 = nn.Conv2d(3, 64, kernel_size=3, stride=1, padding=1, bias=False)\n",
        "model.maxpool = nn.MaxPool2d(kernel_size=3, stride=1, padding=1)\n",
        "model.fc = nn.Linear(512, 10)\n",
        "\n",
        "adv_model = resnet18()\n",
        "adv_model.conv1 = nn.Conv2d(3, 64, kernel_size=3, stride=1, padding=1, bias=False)\n",
        "adv_model.maxpool = nn.MaxPool2d(kernel_size=3, stride=1, padding=1)\n",
        "adv_model.fc = nn.Linear(512, 10)\n",
        "\n",
        "model.load_state_dict(state_dict['model_state_dict'])\n",
        "adv_model.load_state_dict(state_dict_adv['model_state_dict'])\n",
        "\n",
        "device = torch.device(\"cuda\" if torch.cuda.is_available() else \"cpu\")\n",
        "model.to(device)\n",
        "adv_model.to(device)"
      ],
      "metadata": {
        "id": "RRti9takozZo"
      },
      "execution_count": null,
      "outputs": []
    },
    {
      "cell_type": "code",
      "source": [
        "transform_train = transforms.Compose([\n",
        "    transforms.RandomCrop(32, padding=4),\n",
        "    transforms.RandomHorizontalFlip(),\n",
        "    transforms.ToTensor(),\n",
        "])\n",
        "transform_test = transforms.Compose([\n",
        "    transforms.ToTensor(),\n",
        "])\n",
        "normalizer = transforms.Normalize((0.49139968, 0.48215827 ,0.44653124), (0.24703233, 0.24348505, 0.26158768))\n",
        "train_set = datasets.CIFAR10(root='./data', train=True, download=True, transform=transform_train)\n",
        "test_set = datasets.CIFAR10(root='./data', train=False, download=True, transform=transform_test)\n",
        "\n",
        "train_loader = DataLoader(train_set, batch_size=64, shuffle=True)\n",
        "test_loader = DataLoader(test_set, batch_size=64, shuffle=False)"
      ],
      "metadata": {
        "id": "qBdtuLP9p3ld"
      },
      "execution_count": null,
      "outputs": []
    },
    {
      "cell_type": "code",
      "source": [
        "def get_example_inputs(data_loader, normalizer=normalizer):\n",
        "    data_iter = iter(data_loader)\n",
        "    images, labels = next(data_iter)\n",
        "    images = normalizer(images)\n",
        "    return images"
      ],
      "metadata": {
        "id": "juz8jFL2oco0"
      },
      "execution_count": null,
      "outputs": []
    },
    {
      "cell_type": "markdown",
      "source": [
        "## Pruning the Standard Model"
      ],
      "metadata": {
        "id": "jXK1Akgtqu3z"
      }
    },
    {
      "cell_type": "code",
      "source": [
        "imp = tp.importance.GroupNormImportance(p=2)\n",
        "example_inputs = get_example_inputs(train_loader)\n",
        "example_inputs = example_inputs.to(device)\n",
        "\n",
        "ignored_layers = []\n",
        "for m in model.modules():\n",
        "    if isinstance(m, nn.Linear) and m.out_features == 10:\n",
        "        ignored_layers.append(m)\n",
        "\n",
        "pruner = tp.pruner.GroupNormPruner(\n",
        "    model,\n",
        "    example_inputs,\n",
        "    importance = imp,\n",
        "    pruning_ratio=0.5,\n",
        "    ignored_layers=ignored_layers,\n",
        ")\n",
        "\n",
        "base_macs, base_nparams = tp.utils.count_ops_and_params(model, example_inputs)\n",
        "pruner.step()\n",
        "macs, nparams = tp.utils.count_ops_and_params(model, example_inputs)"
      ],
      "metadata": {
        "id": "3J-NAsE8q1aD"
      },
      "execution_count": null,
      "outputs": []
    },
    {
      "cell_type": "markdown",
      "source": [
        "##Fine-tuning for 10 epochs"
      ],
      "metadata": {
        "id": "GefCq0WDrLDZ"
      }
    },
    {
      "cell_type": "code",
      "source": [
        "for epoch in tqdm_notebook(range(1, 11)):\n",
        "    running_loss = train(model, device, train_loader, optimizer, epoch)\n",
        "    test_acc = test(model, device, test_loader)\n",
        "    test_acc_adv = test_adv(model, device, test_adv_loader)\n",
        "    PATH = \"/content/drive/MyDrive/model_nat_pruned.pth\"\n",
        "    torch.save({\n",
        "        'epoch': epoch,\n",
        "        'model': model,\n",
        "        'optimizer_state_dict': optimizer.state_dict(),\n",
        "        'loss': running_loss,\n",
        "    }, PATH)\n",
        "    print(f'\\nAttack success rate:{test_acc - test_acc_adv:.2f}%\\n')\n",
        "    lr_sched.step()"
      ],
      "metadata": {
        "id": "wE2mAg70rNp0"
      },
      "execution_count": null,
      "outputs": []
    },
    {
      "cell_type": "code",
      "source": [
        "model.zero_grad()\n",
        "torch.save(model, '/content/drive/MyDrive/model_nat_pruned.pth')\n",
        "loaded_model = torch.load('/content/drive/MyDrive/model_nat_pruned.pth')"
      ],
      "metadata": {
        "id": "jOcaeZvRrR3C"
      },
      "execution_count": null,
      "outputs": []
    },
    {
      "cell_type": "markdown",
      "source": [
        "##Prunning the Adversarially Robust Model\n"
      ],
      "metadata": {
        "id": "iNkCumqmq3dT"
      }
    },
    {
      "cell_type": "code",
      "execution_count": null,
      "metadata": {
        "id": "toCTNYyChTiS"
      },
      "outputs": [],
      "source": [
        "imp = tp.importance.GroupNormImportance(p=2)\n",
        "example_inputs = get_example_inputs(train_loader)\n",
        "example_inputs = example_inputs.to(device)\n",
        "\n",
        "ignored_layers = []\n",
        "for m in model.modules():\n",
        "    if isinstance(m, nn.Linear) and m.out_features == 10:\n",
        "        ignored_layers.append(m)\n",
        "\n",
        "pruner = tp.pruner.GroupNormPruner(\n",
        "    adv_model,\n",
        "    example_inputs,\n",
        "    importance = imp,\n",
        "    pruning_ratio=0.5,\n",
        "    ignored_layers=ignored_layers,\n",
        ")\n",
        "\n",
        "base_macs, base_nparams = tp.utils.count_ops_and_params(adv_model, example_inputs)\n",
        "pruner.step()\n",
        "macs, nparams = tp.utils.count_ops_and_params(adv_model, example_inputs)"
      ]
    },
    {
      "cell_type": "markdown",
      "source": [
        "##Fine-tuning 10 epochs"
      ],
      "metadata": {
        "id": "w60PNS9BoAcB"
      }
    },
    {
      "cell_type": "code",
      "source": [
        "for epoch in tqdm_notebook(range(1, 11)):\n",
        "    running_loss = train_adv(adv_model, device, train_loader, optimizer, epoch)\n",
        "    test_acc = test(adv_model, device, test_loader)\n",
        "    test_acc_adv = test_adv(adv_model, device, test_adv_loader)\n",
        "    PATH = \"/content/drive/MyDrive/model_adv_pruned.pth\"\n",
        "    torch.save({\n",
        "        'epoch': epoch,\n",
        "        'model': adv_model,\n",
        "        'optimizer_state_dict': optimizer.state_dict(),\n",
        "        'loss': running_loss,\n",
        "    }, PATH)\n",
        "    print(f'\\nAttack success rate:{test_acc - test_acc_adv:.2f}%\\n')\n",
        "    lr_sched.step()"
      ],
      "metadata": {
        "id": "yGNmDadbnqT3"
      },
      "execution_count": null,
      "outputs": []
    },
    {
      "cell_type": "code",
      "source": [
        "adv_model.zero_grad()\n",
        "torch.save(adv_model, '/content/drive/MyDrive/model_adv_pruned.pth')\n",
        "loaded_model = torch.load('/content/drive/MyDrive/model_adv_pruned.pth')"
      ],
      "metadata": {
        "id": "0oTXwbtarCFm"
      },
      "execution_count": null,
      "outputs": []
    }
  ]
}